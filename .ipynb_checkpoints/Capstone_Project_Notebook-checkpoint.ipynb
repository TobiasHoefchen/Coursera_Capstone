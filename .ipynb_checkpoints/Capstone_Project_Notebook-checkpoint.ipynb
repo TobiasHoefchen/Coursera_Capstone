{
 "cells": [
  {
   "cell_type": "markdown",
   "id": "73c92ab3",
   "metadata": {},
   "source": [
    "## This Notebook will be used for the Capstone Project"
   ]
  },
  {
   "cell_type": "markdown",
   "id": "d915929d",
   "metadata": {},
   "source": [
    "This notebook will be used to code the assignments of the capstone project coursera course. It will mainly be used for the capstone project."
   ]
  },
  {
   "cell_type": "markdown",
   "id": "ccb63f33",
   "metadata": {},
   "source": [
    "### Import"
   ]
  },
  {
   "cell_type": "code",
   "execution_count": 21,
   "id": "757b8bba",
   "metadata": {},
   "outputs": [],
   "source": [
    "import pandas as pd\n",
    "import numpy as np"
   ]
  },
  {
   "cell_type": "code",
   "execution_count": 2,
   "id": "16792e9c",
   "metadata": {},
   "outputs": [
    {
     "name": "stdout",
     "output_type": "stream",
     "text": [
      "Hello Capstone Project Course!\n"
     ]
    }
   ],
   "source": [
    "print(\"Hello Capstone Project Course!\")"
   ]
  },
  {
   "cell_type": "code",
   "execution_count": null,
   "id": "76e37089",
   "metadata": {},
   "outputs": [],
   "source": []
  }
 ],
 "metadata": {
  "kernelspec": {
   "display_name": "Python 3",
   "language": "python",
   "name": "python3"
  },
  "language_info": {
   "codemirror_mode": {
    "name": "ipython",
    "version": 3
   },
   "file_extension": ".py",
   "mimetype": "text/x-python",
   "name": "python",
   "nbconvert_exporter": "python",
   "pygments_lexer": "ipython3",
   "version": "3.7.10"
  }
 },
 "nbformat": 4,
 "nbformat_minor": 5
}
