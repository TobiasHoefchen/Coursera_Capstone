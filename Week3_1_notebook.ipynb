{
 "cells": [
  {
   "cell_type": "markdown",
   "id": "c99967c4",
   "metadata": {},
   "source": [
    "# Segmenting and Clustering Neighborhoods in Toronto"
   ]
  },
  {
   "cell_type": "code",
   "execution_count": 1,
   "id": "6fc7c9e8",
   "metadata": {},
   "outputs": [],
   "source": [
    "#Import\n",
    "import pandas as pd\n",
    "import numpy as np\n",
    "import requests\n",
    "from bs4 import BeautifulSoup # this module helps in web scrapping."
   ]
  },
  {
   "cell_type": "code",
   "execution_count": 60,
   "id": "522ed680",
   "metadata": {},
   "outputs": [
    {
     "name": "stdout",
     "output_type": "stream",
     "text": [
      "There are 3 tables on this website.\n"
     ]
    }
   ],
   "source": [
    "URL = \"https://en.wikipedia.org/wiki/List_of_postal_codes_of_Canada:_M\"\n",
    "data  = requests.get(URL).text\n",
    "soup = BeautifulSoup(data,\"html5lib\")\n",
    "\n",
    "#find all html tables in the web page\n",
    "tables = soup.find_all('table') # in html table is represented by the tag <table>\n",
    "print(f\"There are {len(tables)} tables on this website.\")\n",
    "\n",
    "# target table is table 0\n",
    "targetTable = tables[0]\n",
    "#print(tables[0].prettify())"
   ]
  },
  {
   "cell_type": "code",
   "execution_count": 68,
   "id": "6a6651c9",
   "metadata": {},
   "outputs": [],
   "source": [
    "# Creating Dataframe from scraped data\n",
    "data = pd.DataFrame(columns=[\"PostalCode\", \"Borough\", \"Neighborhood\"])\n",
    "\n",
    "for row in targetTable.tbody.find_all(\"tr\"):\n",
    "    fields = row.find_all(\"td\")\n",
    "    \n",
    "    for field in fields:\n",
    "        postalCode = field.find(\"b\").text\n",
    "        if field.find(\"span\").text == \"Not assigned\":\n",
    "            continue\n",
    "        borough = field.find(\"span\").text.split(\"(\")[0]\n",
    "        neighborhood = field.find(\"span\").text.split(\"(\")[1]\n",
    "        neighborhood = neighborhood.split(\")\")[0]\n",
    "        \n",
    "        # if neighborhoods are separeted by \"/\", replace by delimiter \",\"\n",
    "        if \"/\" in neighborhood:\n",
    "            neighborhood = neighborhood.replace(\"/\", \",\")\n",
    "        \n",
    "        data = data.append({\"PostalCode\":postalCode,\n",
    "                            \"Borough\":borough,\n",
    "                            \"Neighborhood\":neighborhood}, ignore_index=True)"
   ]
  },
  {
   "cell_type": "code",
   "execution_count": 70,
   "id": "1dee9431",
   "metadata": {},
   "outputs": [
    {
     "data": {
      "text/plain": [
       "(103, 3)"
      ]
     },
     "execution_count": 70,
     "metadata": {},
     "output_type": "execute_result"
    }
   ],
   "source": [
    "data.shape"
   ]
  },
  {
   "cell_type": "code",
   "execution_count": 72,
   "id": "9a681b4c",
   "metadata": {},
   "outputs": [
    {
     "data": {
      "text/html": [
       "<div>\n",
       "<style scoped>\n",
       "    .dataframe tbody tr th:only-of-type {\n",
       "        vertical-align: middle;\n",
       "    }\n",
       "\n",
       "    .dataframe tbody tr th {\n",
       "        vertical-align: top;\n",
       "    }\n",
       "\n",
       "    .dataframe thead th {\n",
       "        text-align: right;\n",
       "    }\n",
       "</style>\n",
       "<table border=\"1\" class=\"dataframe\">\n",
       "  <thead>\n",
       "    <tr style=\"text-align: right;\">\n",
       "      <th></th>\n",
       "      <th>PostalCode</th>\n",
       "      <th>Borough</th>\n",
       "      <th>Neighborhood</th>\n",
       "    </tr>\n",
       "  </thead>\n",
       "  <tbody>\n",
       "    <tr>\n",
       "      <th>23</th>\n",
       "      <td>M4G</td>\n",
       "      <td>East York</td>\n",
       "      <td>Leaside</td>\n",
       "    </tr>\n",
       "  </tbody>\n",
       "</table>\n",
       "</div>"
      ],
      "text/plain": [
       "   PostalCode    Borough Neighborhood\n",
       "23        M4G  East York      Leaside"
      ]
     },
     "execution_count": 72,
     "metadata": {},
     "output_type": "execute_result"
    }
   ],
   "source": [
    "data[data['PostalCode'] == \"M4G\"]"
   ]
  },
  {
   "cell_type": "code",
   "execution_count": null,
   "id": "86159a5f",
   "metadata": {},
   "outputs": [],
   "source": []
  }
 ],
 "metadata": {
  "kernelspec": {
   "display_name": "Python 3",
   "language": "python",
   "name": "python3"
  },
  "language_info": {
   "codemirror_mode": {
    "name": "ipython",
    "version": 3
   },
   "file_extension": ".py",
   "mimetype": "text/x-python",
   "name": "python",
   "nbconvert_exporter": "python",
   "pygments_lexer": "ipython3",
   "version": "3.7.10"
  }
 },
 "nbformat": 4,
 "nbformat_minor": 5
}
